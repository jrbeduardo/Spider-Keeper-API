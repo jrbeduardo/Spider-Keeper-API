{
 "cells": [
  {
   "cell_type": "code",
   "execution_count": 1,
   "id": "acoustic-proxy",
   "metadata": {},
   "outputs": [],
   "source": [
    "from wrapper import SKeeperAPI\n",
    "sk = SKeeperAPI('http://0.0.0.0:5001', timeout=60) "
   ]
  },
  {
   "cell_type": "code",
   "execution_count": 2,
   "id": "victorian-prague",
   "metadata": {},
   "outputs": [
    {
     "output_type": "execute_result",
     "data": {
      "text/plain": [
       "{'list_projects': '/api/projects',\n",
       " 'add_project': '/api/projects',\n",
       " 'list_spiders': '/api/projects/{project_id}/spiders',\n",
       " 'spider_detail': '/api/projects/{project_id}/spiders/{spider_id}',\n",
       " 'run_spider': '/api/projects/{project_id}/spiders/{spider_id}',\n",
       " 'list_job_instance': '/api/projects/{project_id}/jobs',\n",
       " 'add_job_instance': '/api/projects/{project_id}/jobs',\n",
       " 'update_job_instance': '/api/projects/{project_id}/jobs/{job_id}',\n",
       " 'list_job_execution_status': '/api/projects/{project_id}/jobexecs',\n",
       " 'stop_job': '/api/projects/{project_id}/jobexecs/{job_exec_id}'}"
      ]
     },
     "metadata": {},
     "execution_count": 2
    }
   ],
   "source": [
    "sk.resources"
   ]
  },
  {
   "cell_type": "code",
   "execution_count": 3,
   "id": "needed-solution",
   "metadata": {},
   "outputs": [
    {
     "output_type": "execute_result",
     "data": {
      "text/plain": [
       "('admin', 'admin')"
      ]
     },
     "metadata": {},
     "execution_count": 3
    }
   ],
   "source": [
    "sk.client.auth"
   ]
  },
  {
   "cell_type": "code",
   "execution_count": 13,
   "id": "mineral-origin",
   "metadata": {},
   "outputs": [
    {
     "output_type": "execute_result",
     "data": {
      "text/plain": [
       "[{'project_id': 1, 'project_name': 'web_scrapers'}]"
      ]
     },
     "metadata": {},
     "execution_count": 13
    }
   ],
   "source": [
    "sk.list_projects()"
   ]
  },
  {
   "cell_type": "code",
   "execution_count": 5,
   "id": "available-smith",
   "metadata": {},
   "outputs": [
    {
     "output_type": "execute_result",
     "data": {
      "text/plain": [
       "[{'project_id': 1,\n",
       "  'spider_instance_id': 25,\n",
       "  'spider_name': 'ws_1199_campechehoy'},\n",
       " {'project_id': 1,\n",
       "  'spider_instance_id': 26,\n",
       "  'spider_name': 'ws_1200_novedadescampeche'},\n",
       " {'project_id': 1,\n",
       "  'spider_instance_id': 27,\n",
       "  'spider_name': 'ws_1201_comunicacampeche'}]"
      ]
     },
     "metadata": {},
     "execution_count": 5
    }
   ],
   "source": [
    "sk.list_spiders(1)[:3]"
   ]
  },
  {
   "cell_type": "code",
   "execution_count": 5,
   "id": "armed-uncertainty",
   "metadata": {},
   "outputs": [
    {
     "data": {
      "text/plain": [
       "{'project_id': 2, 'spider_instance_id': 4, 'spider_name': 'basic'}"
      ]
     },
     "execution_count": 5,
     "metadata": {},
     "output_type": "execute_result"
    }
   ],
   "source": [
    "sk.spider_detail(2,4)"
   ]
  },
  {
   "cell_type": "code",
   "execution_count": 6,
   "id": "annual-floating",
   "metadata": {},
   "outputs": [
    {
     "data": {
      "text/plain": [
       "[]"
      ]
     },
     "execution_count": 6,
     "metadata": {},
     "output_type": "execute_result"
    }
   ],
   "source": [
    "sk.list_job_instance(6)"
   ]
  },
  {
   "cell_type": "code",
   "execution_count": 7,
   "id": "approved-germany",
   "metadata": {},
   "outputs": [
    {
     "data": {
      "text/plain": [
       "{'code': 500,\n",
       " 'data': None,\n",
       " 'msg': 'Object of type JobInstance is not JSON serializable',\n",
       " 'success': False}"
      ]
     },
     "execution_count": 7,
     "metadata": {},
     "output_type": "execute_result"
    }
   ],
   "source": [
    "sk.list_job_execution_status(2)"
   ]
  },
  {
   "cell_type": "code",
   "execution_count": 73,
   "id": "planned-rescue",
   "metadata": {},
   "outputs": [
    {
     "data": {
      "text/plain": [
       "True"
      ]
     },
     "execution_count": 73,
     "metadata": {},
     "output_type": "execute_result"
    }
   ],
   "source": [
    "sk.update_job_instance(\n",
    "    2, \n",
    "    3,\n",
    "    'basic',\n",
    "    cron_expression = '*/10 * * * *'\n",
    ")"
   ]
  },
  {
   "cell_type": "code",
   "execution_count": 75,
   "id": "religious-energy",
   "metadata": {},
   "outputs": [
    {
     "data": {
      "text/plain": [
       "True"
      ]
     },
     "execution_count": 75,
     "metadata": {},
     "output_type": "execute_result"
    }
   ],
   "source": [
    "sk.add_job_instance(\n",
    "    2,     'ws_1201_comunicacampeche',\n",
    "    cron_expression = '*/5 * * * *'\n",
    ")"
   ]
  },
  {
   "cell_type": "code",
   "execution_count": 62,
   "id": "middle-alias",
   "metadata": {},
   "outputs": [
    {
     "data": {
      "text/plain": [
       "[{'project_id': 2, 'spider_instance_id': 4, 'spider_name': 'basic'},\n",
       " {'project_id': 2, 'spider_instance_id': 5, 'spider_name': 'foodcom'},\n",
       " {'project_id': 2, 'spider_instance_id': 6, 'spider_name': 'quotes'}]"
      ]
     },
     "execution_count": 62,
     "metadata": {},
     "output_type": "execute_result"
    }
   ],
   "source": [
    "sk.list_spiders(2)"
   ]
  },
  {
   "cell_type": "code",
   "execution_count": 63,
   "id": "liked-capture",
   "metadata": {},
   "outputs": [
    {
     "data": {
      "text/plain": [
       "True"
      ]
     },
     "execution_count": 63,
     "metadata": {},
     "output_type": "execute_result"
    }
   ],
   "source": [
    "sk.run_spider(2,6)"
   ]
  },
  {
   "cell_type": "code",
   "execution_count": 10,
   "id": "dried-concord",
   "metadata": {},
   "outputs": [],
   "source": []
  },
  {
   "cell_type": "code",
   "execution_count": 18,
   "id": "exclusive-screw",
   "metadata": {},
   "outputs": [
    {
     "output_type": "execute_result",
     "data": {
      "text/plain": [
       "{'code': 500,\n",
       " 'data': None,\n",
       " 'msg': \"'NoneType' object has no attribute 'project_id'\",\n",
       " 'success': False}"
      ]
     },
     "metadata": {},
     "execution_count": 18
    }
   ],
   "source": [
    "sk.stop_job(1,9)"
   ]
  },
  {
   "cell_type": "code",
   "execution_count": 7,
   "metadata": {},
   "outputs": [
    {
     "output_type": "execute_result",
     "data": {
      "text/plain": [
       "[{'cron_day_of_month': '*',\n",
       "  'cron_day_of_week': '*',\n",
       "  'cron_hour': '*',\n",
       "  'cron_minutes': '*/5',\n",
       "  'cron_month': '*',\n",
       "  'desc': None,\n",
       "  'enabled': True,\n",
       "  'job_instance_id': 14,\n",
       "  'priority': 0,\n",
       "  'project_id': 1,\n",
       "  'run_type': 'periodic',\n",
       "  'spider_arguments': '',\n",
       "  'spider_name': 'quotes',\n",
       "  'tags': None}]"
      ]
     },
     "metadata": {},
     "execution_count": 7
    }
   ],
   "source": [
    "sk.list_job_instance(1)[:1]"
   ]
  },
  {
   "cell_type": "code",
   "execution_count": 14,
   "metadata": {},
   "outputs": [
    {
     "output_type": "execute_result",
     "data": {
      "text/plain": [
       "[{'create_time': '2021-05-08 17:30:00',\n",
       "  'end_time': None,\n",
       "  'errors_count': '-',\n",
       "  'has_errors': False,\n",
       "  'has_warnings': True,\n",
       "  'items_count': '-',\n",
       "  'job_execution_id': 305,\n",
       "  'job_instance': {'cron_day_of_month': '*',\n",
       "   'cron_day_of_week': '*',\n",
       "   'cron_hour': '*',\n",
       "   'cron_minutes': '*/30',\n",
       "   'cron_month': '*',\n",
       "   'desc': None,\n",
       "   'enabled': True,\n",
       "   'job_instance_id': 15,\n",
       "   'priority': 0,\n",
       "   'project_id': 1,\n",
       "   'run_type': 'periodic',\n",
       "   'spider_arguments': '',\n",
       "   'spider_name': 'ws_1202_campechealdia',\n",
       "   'tags': None},\n",
       "  'job_instance_id': 15,\n",
       "  'project_id': 1,\n",
       "  'running_on': 'http://localhost:6806',\n",
       "  'running_status': 1,\n",
       "  'service_job_execution_id': 'ecb45240b04c11eb867e512199d7e0d3',\n",
       "  'start_time': '2021-05-08 17:30:01',\n",
       "  'warnings_count': '-'}]"
      ]
     },
     "metadata": {},
     "execution_count": 14
    }
   ],
   "source": [
    "sk.list_job_execution_status(1, status='RUNNING')"
   ]
  },
  {
   "cell_type": "code",
   "execution_count": 2,
   "metadata": {},
   "outputs": [
    {
     "output_type": "execute_result",
     "data": {
      "text/plain": [
       "{'project_id': 2, 'project_name': 'My project'}"
      ]
     },
     "metadata": {},
     "execution_count": 2
    }
   ],
   "source": [
    "sk.add_project('My project')"
   ]
  }
 ],
 "metadata": {
  "kernelspec": {
   "display_name": "Python 3",
   "language": "python",
   "name": "python3"
  },
  "language_info": {
   "codemirror_mode": {
    "name": "ipython",
    "version": 3
   },
   "file_extension": ".py",
   "mimetype": "text/x-python",
   "name": "python",
   "nbconvert_exporter": "python",
   "pygments_lexer": "ipython3",
   "version": "3.8.5"
  }
 },
 "nbformat": 4,
 "nbformat_minor": 5
}